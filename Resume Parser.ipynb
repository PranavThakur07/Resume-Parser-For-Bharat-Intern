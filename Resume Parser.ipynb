{
 "cells": [
  {
   "cell_type": "code",
   "execution_count": 1,
   "id": "69b5f9d7",
   "metadata": {},
   "outputs": [
    {
     "name": "stdout",
     "output_type": "stream",
     "text": [
      "Best candidate:\n",
      "Experienced data analyst with strong skills in Python and data analysis.\n"
     ]
    },
    {
     "name": "stderr",
     "output_type": "stream",
     "text": [
      "[nltk_data] Downloading package punkt to\n",
      "[nltk_data]     C:\\Users\\prana\\AppData\\Roaming\\nltk_data...\n",
      "[nltk_data]   Package punkt is already up-to-date!\n",
      "[nltk_data] Downloading package stopwords to\n",
      "[nltk_data]     C:\\Users\\prana\\AppData\\Roaming\\nltk_data...\n",
      "[nltk_data]   Package stopwords is already up-to-date!\n"
     ]
    }
   ],
   "source": [
    "import nltk\n",
    "from nltk.tokenize import word_tokenize\n",
    "from nltk.corpus import stopwords\n",
    "\n",
    "nltk.download('punkt')\n",
    "nltk.download('stopwords')\n",
    "\n",
    "def calculate_match_score(candidate_resume, desired_keywords):\n",
    "    candidate_tokens = word_tokenize(candidate_resume)\n",
    "    candidate_tokens = [token.lower() for token in candidate_tokens if token.isalpha()]\n",
    "    candidate_tokens = [token for token in candidate_tokens if token not in stopwords.words('english')]\n",
    "\n",
    "    match_score = sum(1 for token in candidate_tokens if token in desired_keywords)\n",
    "    return match_score\n",
    "\n",
    "# Desired keywords for the job\n",
    "desired_keywords = [\"python\", \"machine learning\", \"data analysis\", \"communication\"]\n",
    "\n",
    "# Sample candidate resumes\n",
    "candidate_resumes = [\n",
    "    \"Experienced data analyst with strong skills in Python and data analysis.\",\n",
    "    \"Machine learning engineer with expertise in Python and TensorFlow.\",\n",
    "    \"Front-end developer with excellent communication skills.\",\n",
    "    \"Recent graduate with knowledge in data science and machine learning.\"\n",
    "]\n",
    "\n",
    "# Calculate match scores for each candidate\n",
    "candidate_scores = []\n",
    "for resume in candidate_resumes:\n",
    "    score = calculate_match_score(resume, desired_keywords)\n",
    "    candidate_scores.append(score)\n",
    "\n",
    "# Identify the candidate with the highest match score\n",
    "best_candidate_index = candidate_scores.index(max(candidate_scores))\n",
    "best_candidate = candidate_resumes[best_candidate_index]\n",
    "\n",
    "print(\"Best candidate:\")\n",
    "print(best_candidate)\n"
   ]
  },
  {
   "cell_type": "code",
   "execution_count": null,
   "id": "27d89d67",
   "metadata": {},
   "outputs": [],
   "source": []
  }
 ],
 "metadata": {
  "kernelspec": {
   "display_name": "Python 3 (ipykernel)",
   "language": "python",
   "name": "python3"
  },
  "language_info": {
   "codemirror_mode": {
    "name": "ipython",
    "version": 3
   },
   "file_extension": ".py",
   "mimetype": "text/x-python",
   "name": "python",
   "nbconvert_exporter": "python",
   "pygments_lexer": "ipython3",
   "version": "3.10.10"
  }
 },
 "nbformat": 4,
 "nbformat_minor": 5
}
